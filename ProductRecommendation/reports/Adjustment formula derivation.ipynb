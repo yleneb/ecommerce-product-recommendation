{
 "cells": [
  {
   "cell_type": "markdown",
   "metadata": {},
   "source": [
    "# Probability Adjustment Formula Derivation"
   ]
  },
  {
   "cell_type": "markdown",
   "metadata": {},
   "source": [
    "Consider a sample $\\mathrm{X}$ with labels $\\mathrm{Y}$.\n",
    "\n",
    "$$\\begin{array}{ll}\n",
    "P(Y=1)=p & \\textrm{Probability of a purchase }(\\approx0.02) \\\\\n",
    "P(X=t) &  \\textrm{Probability of a customer-product pair having features } t \\\\\n",
    "P(X=t \\mid Y=1) = f_1(t) & \\textrm{Conditional probability of X in class 1} \n",
    "\\end{array}$$\n",
    "\n",
    "Our model learns the probability a sample's class is 1 given its features. Using Bayes' Theorem:\n",
    "\n",
    "$$\\begin{array}{ll}\n",
    "P(Y=1 \\mid X=t) &= \\dfrac{P(Y=1) \\times P(X=t \\mid Y=1)}{P(X=t)} \\\\[15pt]\n",
    "&= \\dfrac{p  f_1(t)}{pf_1(t) + (1-p)f_0(t)} \\\\[15pt]\n",
    "&= \\dfrac{1}{1+\\dfrac{1-p}{p} \\dfrac{f_0}{f_1}}\n",
    "\\end{array}$$\n",
    "\n",
    "We now artificially change the class counts in the data by oversampling, using the proportions $q$ and $1-q$ for the two classes. In our case $q=0.5$\n",
    "\n",
    "$$P(Y=1 \\mid X=t) = \\dfrac{1}{1+\\dfrac{1-q}{q} \\dfrac{f_0}{f_1}}$$\n",
    "\n",
    "Which can be rearranged to:\n",
    "\n",
    "$$\\dfrac{f_0}{f_1} = \\left ( \\dfrac{1}{P(Y=1 \\mid X=t)} - 1 \\right ) \\dfrac{q}{1-q} $$\n",
    "\n",
    "Where $P(Y=1 \\mid X=t)$ are the outputs of our model - the predicted probabilities learnt from the balanced resampled dataset. We can substitute this in to the earlier equation to find the true conditional probabilities for the imbalanced dataset. Let $\\hat{y}$ be our model's predictions and $y_{\\textrm{adjust}}$ be the calibrated probabilities.\n",
    "\n",
    "$$\\begin{array}{ll}\n",
    "\\dfrac{f_0}{f_1} &= \\left ( \\dfrac{1}{\\hat{y}} - 1 \\right ) \\dfrac{q}{1-q} \\\\[15pt]\n",
    "y_{\\textrm{adjust}} &= \\dfrac{1}{1+\\dfrac{1-p}{p} \\left ( \\dfrac{1}{\\hat{y}} - 1 \\right )\\dfrac{q}{1-q}} \\\\[15pt]\n",
    "&= \\dfrac{1}{1+\\dfrac{1-p}{1-q} \\dfrac{q}{q} \\dfrac{1-\\hat{y}}{\\hat{y}} } \\\\[15pt]\n",
    "y_{\\textrm{adjust}} &= \\dfrac{ \\dfrac{\\hat{y}}{\\frac{q}{p}} } { \\dfrac{\\hat{y}}{\\frac{q}{p}} +\\dfrac{1-\\hat{y}}{\\frac{1-q}{1-p}} } = \\dfrac{a}{a+b}\n",
    "\\end{array}$$\n",
    "\n",
    "Using this formula we can adjust the predicted probabilities from our model to reflect the true class distribution."
   ]
  },
  {
   "cell_type": "code",
   "execution_count": 2,
   "metadata": {},
   "outputs": [],
   "source": [
    "# hence the classadjust function:\n",
    "def classadjust(y_hat, q, p):\n",
    "    \n",
    "    a = y_hat/(q/p)\n",
    "    \n",
    "    b = (1-y_hat) / ( (1-q) / (1-p) )\n",
    "    \n",
    "    return a/(a+b)"
   ]
  },
  {
   "cell_type": "code",
   "execution_count": 9,
   "metadata": {},
   "outputs": [
    {
     "data": {
      "image/png": "[encoded data removed]",
      "text/plain": [
       "<Figure size 432x288 with 1 Axes>"
      ]
     },
     "metadata": {
      "needs_background": "light"
     },
     "output_type": "display_data"
    }
   ],
   "source": [
    "import matplotlib.pyplot as plt\n",
    "import numpy as np\n",
    "\n",
    "p = 0.02\n",
    "q = 0.5\n",
    "\n",
    "x = np.linspace(0,1,100)\n",
    "y = classadjust(x, p, q)\n",
    "\n",
    "plt.plot(x,y)\n",
    "plt.show()\n",
    "plt.close()"
   ]
  },
  {
   "cell_type": "code",
   "execution_count": null,
   "metadata": {},
   "outputs": [],
   "source": [
    "# class adust is a function of the form\n",
    "\n",
    "(x/a)/(x/a + c - x/b)\n",
    "\n",
    "# or more simply\n",
    "x/(ax + b)\n",
    "\n",
    "# differentiating wrt x\n",
    "d/dx (u/v) = (v du/dx - u dv/dx) / v*v\n",
    "\n",
    "= (ax + b - ax) / (ax+b)^2\n",
    "= b/(ax+b)^2\n",
    "\n",
    "# no turning points regardless of choice of a,b\n",
    "\n",
    "b = 1/((1-q)/(1-p))\n",
    "\n",
    "# which is always positive so function is strictly increasing"
   ]
  }
 ],
 "metadata": {
  "interpreter": {
   "hash": "f116c7878aab50998026fc56fb7eb8f990dc6995904e4a3c551baa74ed33665d"
  },
  "kernelspec": {
   "display_name": "Python 3.8.8 64-bit ('ASOSProductPrediction': conda)",
   "language": "python",
   "name": "python3"
  },
  "language_info": {
   "codemirror_mode": {
    "name": "ipython",
    "version": 3
   },
   "file_extension": ".py",
   "mimetype": "text/x-python",
   "name": "python",
   "nbconvert_exporter": "python",
   "pygments_lexer": "ipython3",
   "version": "3.8.8"
  },
  "orig_nbformat": 4
 },
 "nbformat": 4,
 "nbformat_minor": 2
}
